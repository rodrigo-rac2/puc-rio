{
  "cells": [
    {
      "cell_type": "markdown",
      "metadata": {
        "id": "view-in-github",
        "colab_type": "text"
      },
      "source": [
        "<a href=\"https://colab.research.google.com/github/rodrigo-rac2/puc-rio/blob/main/Copy_of_POO_Aula1a.ipynb\" target=\"_parent\"><img src=\"https://colab.research.google.com/assets/colab-badge.svg\" alt=\"Open In Colab\"/></a>"
      ]
    },
    {
      "cell_type": "markdown",
      "metadata": {
        "id": "6Pb-hJW2yNrv"
      },
      "source": [
        "# Programação Orientada a Objetos - Prof. Tatiana Escovedo\n",
        "\n",
        "---\n",
        "\n",
        "## Aula 01: Introdução a Python e Orientação a Objetos\n",
        "\n",
        "### Prática 1: Introdução à Linguagem Python"
      ]
    },
    {
      "cell_type": "markdown",
      "metadata": {
        "id": "jr3OyKENz22_"
      },
      "source": [
        "## Básico de Python"
      ]
    },
    {
      "cell_type": "markdown",
      "metadata": {
        "id": "HPGhHXNF1wHL"
      },
      "source": [
        "## Primeiro Programa"
      ]
    },
    {
      "cell_type": "code",
      "execution_count": 1,
      "metadata": {
        "id": "Hak_MlsisPH6",
        "colab": {
          "base_uri": "https://localhost:8080/"
        },
        "outputId": "cac0df72-f9d0-4e85-ee90-2a85556434f3"
      },
      "outputs": [
        {
          "output_type": "stream",
          "name": "stdout",
          "text": [
            "Hello, World!\n"
          ]
        }
      ],
      "source": [
        "# Isto é um comentário de apenas uma linha\n",
        "print(\"Hello, World!\")"
      ]
    },
    {
      "cell_type": "markdown",
      "metadata": {
        "id": "VPJhZYydih_M"
      },
      "source": [
        "### Zen do Python"
      ]
    },
    {
      "cell_type": "code",
      "execution_count": null,
      "metadata": {
        "id": "FAungPg7ivwd",
        "outputId": "f132b47c-b2da-41da-e304-20a1f4014136",
        "colab": {
          "base_uri": "https://localhost:8080/"
        }
      },
      "outputs": [
        {
          "output_type": "stream",
          "name": "stdout",
          "text": [
            "The Zen of Python, by Tim Peters\n",
            "\n",
            "Beautiful is better than ugly.\n",
            "Explicit is better than implicit.\n",
            "Simple is better than complex.\n",
            "Complex is better than complicated.\n",
            "Flat is better than nested.\n",
            "Sparse is better than dense.\n",
            "Readability counts.\n",
            "Special cases aren't special enough to break the rules.\n",
            "Although practicality beats purity.\n",
            "Errors should never pass silently.\n",
            "Unless explicitly silenced.\n",
            "In the face of ambiguity, refuse the temptation to guess.\n",
            "There should be one-- and preferably only one --obvious way to do it.\n",
            "Although that way may not be obvious at first unless you're Dutch.\n",
            "Now is better than never.\n",
            "Although never is often better than *right* now.\n",
            "If the implementation is hard to explain, it's a bad idea.\n",
            "If the implementation is easy to explain, it may be a good idea.\n",
            "Namespaces are one honking great idea -- let's do more of those!\n"
          ]
        }
      ],
      "source": [
        "import this"
      ]
    },
    {
      "cell_type": "markdown",
      "metadata": {
        "id": "ZFQcPUw-1yBK"
      },
      "source": [
        "## Variáveis"
      ]
    },
    {
      "cell_type": "code",
      "execution_count": 2,
      "metadata": {
        "id": "LsTCAdS-0VTN",
        "outputId": "0ecbbb2d-9372-489a-82e5-324a6d209642",
        "colab": {
          "base_uri": "https://localhost:8080/"
        }
      },
      "outputs": [
        {
          "output_type": "stream",
          "name": "stdout",
          "text": [
            "7.584\n",
            "<class 'float'>\n"
          ]
        }
      ],
      "source": [
        "# Variáveis: Definição e tipos\n",
        "\n",
        "# Declarando 4 variáveis e atribuindo valores a elas\n",
        "uma_string = \"Aluno\"\n",
        "um_inteiro = 7\n",
        "um_float = 7.584\n",
        "um_booleano = True\n",
        "\n",
        "# Imprimindo o valor e o tipo de uma das variáveis\n",
        "print(um_float)\n",
        "print(type(um_float))"
      ]
    },
    {
      "cell_type": "code",
      "execution_count": null,
      "metadata": {
        "id": "pJrSlM8M0d4P",
        "outputId": "e9cf1d36-8a73-460a-ace4-915ff7f40dab",
        "colab": {
          "base_uri": "https://localhost:8080/"
        }
      },
      "outputs": [
        {
          "output_type": "stream",
          "name": "stdout",
          "text": [
            "7\n",
            "7.584\n"
          ]
        }
      ],
      "source": [
        "# Casting: Convertendo a variável do tipo float para int e para string\n",
        "print(int(um_float))\n",
        "print(str(um_float))"
      ]
    },
    {
      "cell_type": "code",
      "execution_count": null,
      "metadata": {
        "id": "VgoVTn6I0jnr",
        "outputId": "67bc8b9a-15ec-45a7-b9fb-53afa37e0c74",
        "colab": {
          "base_uri": "https://localhost:8080/"
        }
      },
      "outputs": [
        {
          "output_type": "stream",
          "name": "stdout",
          "text": [
            "Resultado da soma = 12\n",
            "Resultado da subtração = -5\n",
            "Resultado da multiplicação = -15\n",
            "Resultado da divisão = -3.75\n",
            "Resultado da potenciação = 16\n",
            "Resultado do resto da divisão = 1\n"
          ]
        }
      ],
      "source": [
        "# Operações Aritméticas\n",
        "\n",
        "# Soma, Subtração, Multiplicação e Divisão\n",
        "resultado_1 = 7 + 5\n",
        "resultado_2 = um_inteiro - resultado_1\n",
        "resultado_3 = resultado_2 * 3\n",
        "resultado_4 = resultado_3 / 4\n",
        "\n",
        "# Imprimindo os resultados concatenando uma string com o resultado numérico\n",
        "print(\"Resultado da soma = \" + str(resultado_1))\n",
        "print(\"Resultado da subtração = \" + str(resultado_2))\n",
        "print(\"Resultado da multiplicação = \" + str(resultado_3))\n",
        "print(\"Resultado da divisão = \" + str(resultado_4))\n",
        "\n",
        "# Potenciação e Resto da Divisão\n",
        "resultado_5 = 2 ** 4\n",
        "resultado_6 = 13 % 4\n",
        "\n",
        "# Imprimindo os resultados concatenando uma string com o resultado numérico\n",
        "print(\"Resultado da potenciação = \" + str(resultado_5))\n",
        "print(\"Resultado do resto da divisão = \" + str(resultado_6))"
      ]
    },
    {
      "cell_type": "code",
      "execution_count": 3,
      "metadata": {
        "id": "KXm84FqH082m",
        "outputId": "eafdb764-d1ec-4580-ae37-35b8451774b9",
        "colab": {
          "base_uri": "https://localhost:8080/"
        }
      },
      "outputs": [
        {
          "output_type": "stream",
          "name": "stdout",
          "text": [
            "Resultado: 4\n",
            "Resultado: 9\n"
          ]
        }
      ],
      "source": [
        "# Incremento e Decremento\n",
        "\n",
        "# Decrementando 3 unidades\n",
        "um_inteiro -= 3\n",
        "print(\"Resultado: \" + str(um_inteiro)) # 7 - 3 = 4 --> agora um_inteiro é 4\n",
        "\n",
        "# Incrementando 5 unidades\n",
        "um_inteiro += 5\n",
        "print(\"Resultado: \" + str(um_inteiro)) # 4 + 5 = 9 --> agora um_inteiro é 9"
      ]
    },
    {
      "cell_type": "code",
      "execution_count": 4,
      "metadata": {
        "id": "JiS7vrGU1Cpr",
        "outputId": "0347a830-14ac-4ea3-8dcb-9f94a1ea44c0",
        "colab": {
          "base_uri": "https://localhost:8080/"
        }
      },
      "outputs": [
        {
          "output_type": "stream",
          "name": "stdout",
          "text": [
            "True\n",
            "False\n",
            "Um é igual a dois? False\n",
            "Um é diferente de dois? True\n",
            "Um é maior do que dois? False\n",
            "Um é menor do que dois? True\n"
          ]
        }
      ],
      "source": [
        "# Operadores de Igualdade\n",
        "\n",
        "variavel_um = 1\n",
        "variavel_dois = 2\n",
        "variavel_tres = 3\n",
        "\n",
        "print(1 == variavel_um)\n",
        "print(2 == variavel_um)\n",
        "\n",
        "equal = (variavel_um == variavel_dois) # os () são opcionais neste caso, mas ajudam a legibilidade\n",
        "not_equal = (variavel_um != variavel_dois)\n",
        "\n",
        "print(\"Um é igual a dois? \" + str(equal))\n",
        "print(\"Um é diferente de dois? \" + str(not_equal))\n",
        "\n",
        "# Operadores de Comparação\n",
        "\n",
        "print(\"Um é maior do que dois? \" + str(variavel_um > variavel_dois))\n",
        "print(\"Um é menor do que dois? \" + str(variavel_um < variavel_dois))"
      ]
    },
    {
      "cell_type": "code",
      "source": [
        "# Operadores Lógicos and (e) e or (ou)\n",
        "\n",
        "print((2 > 1) and (3 < 5)) # V V\n",
        "print((2 > 1) and (1 > 3)) # V F\n",
        "\n",
        "print((3 < 5) or (2 > 1)) # V V\n",
        "print((0 > 1) or (0 == -1)) # F F\n",
        "print((0 < 1) or (0 == -1)) # V F"
      ],
      "metadata": {
        "id": "p93HoMcrfPTV",
        "outputId": "1f2f0267-d718-47d2-959a-ae1f654f6f01",
        "colab": {
          "base_uri": "https://localhost:8080/"
        }
      },
      "execution_count": 5,
      "outputs": [
        {
          "output_type": "stream",
          "name": "stdout",
          "text": [
            "True\n",
            "False\n",
            "True\n",
            "False\n",
            "True\n"
          ]
        }
      ]
    },
    {
      "cell_type": "markdown",
      "metadata": {
        "id": "BTEQ7Jkg1oHS"
      },
      "source": [
        "## Strings"
      ]
    },
    {
      "cell_type": "code",
      "execution_count": 6,
      "metadata": {
        "id": "3r2MgilR1is2",
        "outputId": "21604531-6ef2-42f9-cb7b-c9632242aff8",
        "colab": {
          "base_uri": "https://localhost:8080/"
        }
      },
      "outputs": [
        {
          "output_type": "stream",
          "name": "stdout",
          "text": [
            "Programação OO\n"
          ]
        }
      ],
      "source": [
        "# Concatenação\n",
        "\n",
        "programacao = \"Programação\" # pode ser tanto delimitada por aspas duplas...\n",
        "oo = 'OO' #... quanto por aspas simples, mas sempre combinando\n",
        "programacao_oo = programacao + \" \" + oo\n",
        "print(programacao_oo)"
      ]
    },
    {
      "cell_type": "code",
      "execution_count": 7,
      "metadata": {
        "id": "cbM5SOHW2h3n",
        "outputId": "3b66506b-8097-4802-a63c-6637ce6fd51d",
        "colab": {
          "base_uri": "https://localhost:8080/"
        }
      },
      "outputs": [
        {
          "output_type": "stream",
          "name": "stdout",
          "text": [
            "14\n"
          ]
        }
      ],
      "source": [
        "# Tamanho\n",
        "\n",
        "print(len(programacao_oo))"
      ]
    },
    {
      "cell_type": "code",
      "execution_count": 8,
      "metadata": {
        "id": "dU--FJa32EK8",
        "outputId": "facdac12-d34d-4268-8f9d-eb041821c1c6",
        "colab": {
          "base_uri": "https://localhost:8080/"
        }
      },
      "outputs": [
        {
          "output_type": "stream",
          "name": "stdout",
          "text": [
            "h\n",
            "!\n",
            "o\n",
            "Pyth\n",
            "uito divertido!\n",
            "n é m\n",
            "Python é muito divertido!\n"
          ]
        }
      ],
      "source": [
        "# Indexação e Substrings\n",
        "\n",
        "frase = \"Python é muito divertido!\"\n",
        "\n",
        "# A indexação começa com 0\n",
        "print(frase[3])\n",
        "\n",
        "# use -1 para pegar a última letra\n",
        "print(frase[-1])\n",
        "\n",
        "# -2 pega a penúltima letra\n",
        "print(frase[-2])\n",
        "\n",
        "# string[start:end] - end não é incluso\n",
        "print(frase[:4])\n",
        "print(frase[10:])\n",
        "print(frase[5:10])\n",
        "print(frase[:])"
      ]
    },
    {
      "cell_type": "code",
      "execution_count": 9,
      "metadata": {
        "id": "dIQsp6sR2Dvq",
        "colab": {
          "base_uri": "https://localhost:8080/"
        },
        "outputId": "cbcfc625-5835-4af3-d89e-c08bf55547c8"
      },
      "outputs": [
        {
          "output_type": "stream",
          "name": "stdout",
          "text": [
            "oláoláoláoláoláoláolá\n"
          ]
        }
      ],
      "source": [
        "# Multiplicação de uma string por um número\n",
        "\n",
        "ola = \"olá\"\n",
        "sete_olas = ola * 7\n",
        "print(sete_olas)"
      ]
    },
    {
      "cell_type": "code",
      "execution_count": 10,
      "metadata": {
        "id": "lqYdd5lw2gdg",
        "colab": {
          "base_uri": "https://localhost:8080/"
        },
        "outputId": "591bd7dd-5940-4364-ee5b-7a2fb8036c45"
      },
      "outputs": [
        {
          "output_type": "stream",
          "name": "stdout",
          "text": [
            "True\n",
            "False\n",
            "False\n"
          ]
        }
      ],
      "source": [
        "# Operador in\n",
        "\n",
        "programacao_python = \"Programação em Python\"\n",
        "\n",
        "# checa se a string contém \"Python\"\n",
        "print(\"Python\" in programacao_python)\n",
        "\n",
        "# checa se a string contém \"python\"\n",
        "print(\"python\" in programacao_python)\n",
        "\n",
        "# checa se a string contém \"abacate\"\n",
        "print(\"abacate\" in programacao_python)"
      ]
    },
    {
      "cell_type": "code",
      "execution_count": 11,
      "metadata": {
        "id": "FmHXDp3I2iEQ",
        "colab": {
          "base_uri": "https://localhost:8080/"
        },
        "outputId": "0852c858-eca2-4313-c4ae-4d0907a6fdef"
      },
      "outputs": [
        {
          "output_type": "stream",
          "name": "stdout",
          "text": [
            "Estou estudando\n",
            "Programação em Python\n"
          ]
        }
      ],
      "source": [
        "# Escaping\n",
        "\n",
        "print(\"Estou estudando\\n\" + programacao_python) # \\n = nova linha"
      ]
    },
    {
      "cell_type": "code",
      "execution_count": 12,
      "metadata": {
        "id": "93Yn1Ghp2iJ6",
        "colab": {
          "base_uri": "https://localhost:8080/"
        },
        "outputId": "2ab8c372-95db-4bac-daf2-9999b0462343"
      },
      "outputs": [
        {
          "output_type": "stream",
          "name": "stdout",
          "text": [
            "programação em python\n",
            "PROGRAMAÇÃO EM PYTHON\n",
            "Aula de python\n"
          ]
        }
      ],
      "source": [
        "# Maiúsculas e Minúsculas\n",
        "\n",
        "print(programacao_python.lower()) # todas minúsculas\n",
        "print(programacao_python.upper()) # todas maiúsculas\n",
        "\n",
        "tudo_minuscula = \"aula de python\"\n",
        "print(tudo_minuscula.capitalize()) # primeira letra maiúscula"
      ]
    },
    {
      "cell_type": "code",
      "execution_count": 13,
      "metadata": {
        "id": "CiSlIYXM2iPQ",
        "colab": {
          "base_uri": "https://localhost:8080/"
        },
        "outputId": "31c7c53e-e3fd-4ea9-f6c2-8a7e163d043f"
      },
      "outputs": [
        {
          "output_type": "stream",
          "name": "stdout",
          "text": [
            "Olá, meu nome é Belinha! Tenho 7 anos e 7 reais\n",
            "Olá, meu nome é Belinha! Tenho 7 anos e 7.584000 reais\n",
            "Olá, meu nome é Belinha! Tenho 7 anos e 7.58 reais\n"
          ]
        }
      ],
      "source": [
        "# Formatação\n",
        "\n",
        "nome = \"Belinha\"\n",
        "numero_inteiro = 7\n",
        "numero_decimal = 7.584\n",
        "\n",
        "print(\"Olá, meu nome é %s! Tenho %d anos e %d reais\" % (nome, numero_inteiro, numero_decimal)) # float impresso como int\n",
        "print(\"Olá, meu nome é %s! Tenho %d anos e %f reais\" % (nome, numero_inteiro, numero_decimal)) # float impresso como float\n",
        "print(\"Olá, meu nome é %s! Tenho %d anos e %.2f reais\" % (nome, numero_inteiro, numero_decimal)) # float impresso como float com 2 casas decimais"
      ]
    },
    {
      "cell_type": "markdown",
      "metadata": {
        "id": "FP8eDc063Tvr"
      },
      "source": [
        "## Coleções"
      ]
    },
    {
      "cell_type": "code",
      "execution_count": 14,
      "metadata": {
        "id": "TMVhEgzH3VHP",
        "colab": {
          "base_uri": "https://localhost:8080/"
        },
        "outputId": "f4539c7f-2d7d-44fe-997e-531de26235fc"
      },
      "outputs": [
        {
          "output_type": "stream",
          "name": "stdout",
          "text": [
            "[1, 10, 100, 1000]\n",
            "100\n"
          ]
        }
      ],
      "source": [
        "# Listas\n",
        "\n",
        "numeros = [1, 10, 100, 1000]\n",
        "print(numeros)\n",
        "\n",
        "# imprimir o elemento de índice 2 - inicia no 0\n",
        "print(numeros[2])"
      ]
    },
    {
      "cell_type": "code",
      "source": [
        "# Operações de Listas\n",
        "\n",
        "# incluir 2 itens na lista usando +=\n",
        "numeros += [10000, 100000]\n",
        "print(numeros)\n",
        "\n",
        "# incluir 1 item na lista usando append\n",
        "numeros.append(1000000)\n",
        "print(numeros)\n",
        "\n",
        "# substituir os itens nas posições 1 e 2 por 7\n",
        "# [índice_incluído:índice_excluído]\n",
        "numeros[1:3] = [7]\n",
        "print(numeros)\n",
        "\n",
        "# remover os itens nas posições 1 e 2 da lista\n",
        "numeros[1:3] = []\n",
        "print(numeros)\n",
        "\n",
        "# tamanho da lista\n",
        "print(len(numeros))"
      ],
      "metadata": {
        "id": "0zEBeDXhEJrl",
        "colab": {
          "base_uri": "https://localhost:8080/"
        },
        "outputId": "9a50753c-1aed-4de4-b59b-8aec4951c8a0"
      },
      "execution_count": 15,
      "outputs": [
        {
          "output_type": "stream",
          "name": "stdout",
          "text": [
            "[1, 10, 100, 1000, 10000, 100000]\n",
            "[1, 10, 100, 1000, 10000, 100000, 1000000]\n",
            "[1, 7, 1000, 10000, 100000, 1000000]\n",
            "[1, 10000, 100000, 1000000]\n",
            "4\n"
          ]
        }
      ]
    },
    {
      "cell_type": "code",
      "execution_count": 16,
      "metadata": {
        "id": "-YQlCOCB3oQB",
        "colab": {
          "base_uri": "https://localhost:8080/"
        },
        "outputId": "3198c2f6-2e5a-44e3-81cc-95122cf138dc"
      },
      "outputs": [
        {
          "output_type": "stream",
          "name": "stdout",
          "text": [
            "('copas', 'ouros', 'espadas', 'paus')\n"
          ]
        }
      ],
      "source": [
        "# Tuplas\n",
        "\n",
        "naipes = ('copas', 'ouros', 'espadas', 'paus')\n",
        "print(naipes)"
      ]
    },
    {
      "cell_type": "code",
      "source": [
        "# Dicionários\n",
        "\n",
        "# criar e imprimir um dicionário\n",
        "notas = {\"Ana\": 8, \"Maria\": 5, \"Thais\": 10}\n",
        "print(notas)\n",
        "\n",
        "# acessar o valor correspondente à chave \"Thais\"\n",
        "print(notas[\"Thais\"])\n",
        "\n",
        "# incluir novo item\n",
        "notas[\"Zaira\"] = 9\n",
        "print(notas)\n",
        "\n",
        "# remover item\n",
        "del notas[\"Thais\"]\n",
        "print(notas)\n",
        "\n",
        "# checar se notas contém o item \"Maria\"\n",
        "print(\"Maria\" in notas)"
      ],
      "metadata": {
        "id": "Pr-1emMbE3Ej",
        "colab": {
          "base_uri": "https://localhost:8080/"
        },
        "outputId": "a0009533-3e14-4616-c9b0-a66e9f6aaa45"
      },
      "execution_count": 17,
      "outputs": [
        {
          "output_type": "stream",
          "name": "stdout",
          "text": [
            "{'Ana': 8, 'Maria': 5, 'Thais': 10}\n",
            "10\n",
            "{'Ana': 8, 'Maria': 5, 'Thais': 10, 'Zaira': 9}\n",
            "{'Ana': 8, 'Maria': 5, 'Zaira': 9}\n",
            "True\n"
          ]
        }
      ]
    },
    {
      "cell_type": "markdown",
      "metadata": {
        "id": "FgvuadFJ44he"
      },
      "source": [
        "## Condições"
      ]
    },
    {
      "cell_type": "code",
      "execution_count": 18,
      "metadata": {
        "id": "zc7SmL9B5Rkk",
        "colab": {
          "base_uri": "https://localhost:8080/"
        },
        "outputId": "e5ec7932-1b51-4c98-de36-6a1539f48625"
      },
      "outputs": [
        {
          "output_type": "stream",
          "name": "stdout",
          "text": [
            "Passou!\n",
            "Passou de novo!\n",
            "Ana tem 25 anos\n"
          ]
        }
      ],
      "source": [
        "nome = \"Ana\"\n",
        "idade = 25\n",
        "\n",
        "# Comando if (condição se)\n",
        "\n",
        "if nome == \"Ana\": # V\n",
        "    print(\"Passou!\")\n",
        "\n",
        "if nome == \"Ana\" or idade == 17:   # V ou V = V\n",
        "    print(\"Passou de novo!\")\n",
        "    print(\"%s tem %d anos\" %(nome, idade))"
      ]
    },
    {
      "cell_type": "code",
      "source": [
        "# Comandos if, elif e else\n",
        "\n",
        "dias = [\"sábado\", \"domingo\"]\n",
        "if len(dias) == 0:\n",
        "    print(\"Lista vazia\")\n",
        "elif len(dias) == 1:\n",
        "    print(\"Só um dia\")\n",
        "else:\n",
        "    print(\"Tamanho %d\" % len(dias))"
      ],
      "metadata": {
        "id": "fAW1ZQ3ohzCM",
        "colab": {
          "base_uri": "https://localhost:8080/"
        },
        "outputId": "a9c002fb-459e-4e2c-c33e-0b8dd8be5b44"
      },
      "execution_count": 20,
      "outputs": [
        {
          "output_type": "stream",
          "name": "stdout",
          "text": [
            "Tamanho 2\n"
          ]
        }
      ]
    },
    {
      "cell_type": "markdown",
      "metadata": {
        "id": "eVsm3csc5eN7"
      },
      "source": [
        "## Loops"
      ]
    },
    {
      "cell_type": "code",
      "execution_count": 21,
      "metadata": {
        "id": "Qu5LEeRb5uPf",
        "colab": {
          "base_uri": "https://localhost:8080/"
        },
        "outputId": "8e84fbc3-84b4-4c3e-abd9-1ad900ede258"
      },
      "outputs": [
        {
          "output_type": "stream",
          "name": "stdout",
          "text": [
            "0\n",
            "1\n",
            "2\n",
            "3\n",
            "4\n",
            "5\n"
          ]
        }
      ],
      "source": [
        "# Loop for\n",
        "for i in range(6):\n",
        "    print(i)\n",
        "\n",
        "# OBS: A função range() pode ser representada de três formas diferentes:\n",
        "# range(stop_value) : Considera o ponto inicial como zero.\n",
        "# range(start_value, stop_value) : Gera a sequência com base no valor inicial e final.\n",
        "# range(start_value, stop_value, step_size): Gera a sequência incrementando o valor inicial usando o tamanho do passo até atingir o valor final."
      ]
    },
    {
      "cell_type": "code",
      "source": [
        "# Loop for - outro exemplo\n",
        "pares = [2, 4, 6, 8]\n",
        "for i in range(len(pares)):\n",
        "    print(\"Índice %d - Valor %d \" % (i, pares[i]))"
      ],
      "metadata": {
        "id": "ehCk__XdiQCH",
        "colab": {
          "base_uri": "https://localhost:8080/"
        },
        "outputId": "9ddb56e1-84ab-4658-aebe-01d778ea0e4f"
      },
      "execution_count": 22,
      "outputs": [
        {
          "output_type": "stream",
          "name": "stdout",
          "text": [
            "Índice 0 - Valor 2 \n",
            "Índice 1 - Valor 4 \n",
            "Índice 2 - Valor 6 \n",
            "Índice 3 - Valor 8 \n"
          ]
        }
      ]
    },
    {
      "cell_type": "code",
      "execution_count": 23,
      "metadata": {
        "id": "VcECdMpc6DHB",
        "colab": {
          "base_uri": "https://localhost:8080/"
        },
        "outputId": "5757fa96-87e9-4da6-cf05-83df1d6c4c9b"
      },
      "outputs": [
        {
          "output_type": "stream",
          "name": "stdout",
          "text": [
            "H\n",
            "e\n",
            "l\n",
            "l\n",
            "o\n",
            ",\n",
            " \n",
            "W\n",
            "o\n",
            "r\n",
            "l\n",
            "d\n",
            "!\n",
            "Número de caracteres: 13 \n"
          ]
        }
      ],
      "source": [
        "# Loop for usando string\n",
        "\n",
        "hello_world = \"Hello, World!\"\n",
        "\n",
        "# imprimir cada caracter\n",
        "for ch in hello_world:\n",
        "    print(ch)\n",
        "\n",
        "# contar a quantidade de caracteres usando loop\n",
        "length = 0\n",
        "for ch in hello_world:\n",
        "    length += 1\n",
        "print(\"Número de caracteres: %d \" % length)\n"
      ]
    },
    {
      "cell_type": "code",
      "execution_count": 24,
      "metadata": {
        "id": "Y-0HBHCN6DT8",
        "colab": {
          "base_uri": "https://localhost:8080/"
        },
        "outputId": "ebed9e97-ddb4-4d28-d509-8411a863e5ff"
      },
      "outputs": [
        {
          "output_type": "stream",
          "name": "stdout",
          "text": [
            "1\n",
            "2\n",
            "3\n",
            "4\n",
            "5\n",
            "6\n",
            "7\n"
          ]
        }
      ],
      "source": [
        "# Loop While\n",
        "numero = 1\n",
        "\n",
        "# imprimir de 1 a 7\n",
        "while numero <= 7:\n",
        "    print(numero)\n",
        "    numero += 1"
      ]
    },
    {
      "cell_type": "code",
      "source": [
        "# imprimir os quadrados menores que 25\n",
        "numero = 1\n",
        "quadrado = 1\n",
        "\n",
        "while quadrado <= 24:\n",
        "    quadrado = numero ** 2\n",
        "    print(\"Número %d - Quadrado %d\" % (numero, quadrado))\n",
        "    numero += 1\n",
        "\n",
        "print(\"Ao sair do while, numero tem o valor %d\" % numero)"
      ],
      "metadata": {
        "id": "oX4Fe0dzjVC7",
        "colab": {
          "base_uri": "https://localhost:8080/"
        },
        "outputId": "277e03be-4a02-4273-d45e-a59a7f6a1b18"
      },
      "execution_count": 25,
      "outputs": [
        {
          "output_type": "stream",
          "name": "stdout",
          "text": [
            "Número 1 - Quadrado 1\n",
            "Número 2 - Quadrado 4\n",
            "Número 3 - Quadrado 9\n",
            "Número 4 - Quadrado 16\n",
            "Número 5 - Quadrado 25\n",
            "Ao sair do while, numero tem o valor 6\n"
          ]
        }
      ]
    },
    {
      "cell_type": "code",
      "execution_count": 26,
      "metadata": {
        "id": "iXJbCABu6DQi",
        "colab": {
          "base_uri": "https://localhost:8080/"
        },
        "outputId": "cbc588ff-7c0e-494a-d8e7-19a0cb40d568"
      },
      "outputs": [
        {
          "output_type": "stream",
          "name": "stdout",
          "text": [
            "0\n",
            "1\n",
            "2\n",
            "3\n",
            "4\n"
          ]
        }
      ],
      "source": [
        "# Break\n",
        "\n",
        "count = 0\n",
        "\n",
        "# loop infinito - nunca é False\n",
        "while True:\n",
        "    print(count)\n",
        "    count += 1\n",
        "    if count >= 5:\n",
        "      break # sai do loop"
      ]
    },
    {
      "cell_type": "code",
      "source": [
        "naipes = ['copas', 'ouros', 'espadas', 'paus']\n",
        "\n",
        "# loop infinito - nunca é False\n",
        "while True:\n",
        "    # pop(): retira e retorna o último item da lista\n",
        "    elemento = naipes.pop()\n",
        "    print(elemento)\n",
        "    if elemento == \"espadas\":\n",
        "        break"
      ],
      "metadata": {
        "id": "z96WNoEIkG25",
        "colab": {
          "base_uri": "https://localhost:8080/"
        },
        "outputId": "9ef9a69b-176d-4c72-b44f-ca947a52e79e"
      },
      "execution_count": 27,
      "outputs": [
        {
          "output_type": "stream",
          "name": "stdout",
          "text": [
            "paus\n",
            "espadas\n"
          ]
        }
      ]
    },
    {
      "cell_type": "code",
      "execution_count": 28,
      "metadata": {
        "id": "bgQMCSeh6DEZ",
        "colab": {
          "base_uri": "https://localhost:8080/"
        },
        "outputId": "07211c78-d2a8-47df-8b4d-d00c0f3168ab"
      },
      "outputs": [
        {
          "output_type": "stream",
          "name": "stdout",
          "text": [
            "0\n",
            "1\n",
            "2\n",
            "4\n"
          ]
        }
      ],
      "source": [
        "# Continue\n",
        "\n",
        "for i in range(5):\n",
        "    if i == 3:\n",
        "       continue # pula o resto do código e move para a próxima iteração do loop\n",
        "    print(i)"
      ]
    },
    {
      "cell_type": "code",
      "source": [
        "# imprimir somente os ímpares\n",
        "for x in range(10):\n",
        "    if (x % 2) == 0: # é par\n",
        "        # pula print(x) para este loop\n",
        "        continue\n",
        "    print(\"Número %d\" % x)"
      ],
      "metadata": {
        "id": "WE_0UsURkjqc",
        "colab": {
          "base_uri": "https://localhost:8080/"
        },
        "outputId": "d592cb18-1548-4ff5-dc7c-18e05ffc4b0d"
      },
      "execution_count": 29,
      "outputs": [
        {
          "output_type": "stream",
          "name": "stdout",
          "text": [
            "Número 1\n",
            "Número 3\n",
            "Número 5\n",
            "Número 7\n",
            "Número 9\n"
          ]
        }
      ]
    },
    {
      "cell_type": "markdown",
      "metadata": {
        "id": "MSdvc_x67Ji-"
      },
      "source": [
        "## Funções"
      ]
    },
    {
      "cell_type": "code",
      "execution_count": 30,
      "metadata": {
        "id": "s90NU2mX7Krn",
        "colab": {
          "base_uri": "https://localhost:8080/"
        },
        "outputId": "8793e0e9-2d60-41b8-b21d-3ff76a02ea1a"
      },
      "outputs": [
        {
          "output_type": "stream",
          "name": "stdout",
          "text": [
            "Hello, World!\n",
            "Oi, Mundo!\n",
            "Salut, Monde!\n",
            "Hola, Mundo!\n",
            "Hello, World!\n",
            "Oi, Mundo!\n",
            "Salut, Monde!\n",
            "Hola, Mundo!\n",
            "Hello, World!\n",
            "Oi, Mundo!\n",
            "Salut, Monde!\n",
            "Hola, Mundo!\n"
          ]
        }
      ],
      "source": [
        "# Funções\n",
        "\n",
        "# definir uma função chamada hello_world\n",
        "def hello_world():\n",
        "    print(\"Hello, World!\")\n",
        "    print(\"Oi, Mundo!\")\n",
        "    print(\"Salut, Monde!\")\n",
        "    print(\"Hola, Mundo!\")\n",
        "\n",
        "# chamar a função 3 vezes\n",
        "for i in range(3):\n",
        "    hello_world()"
      ]
    },
    {
      "cell_type": "code",
      "execution_count": 31,
      "metadata": {
        "id": "2V0gj8WR7sqw",
        "colab": {
          "base_uri": "https://localhost:8080/"
        },
        "outputId": "044a11cf-dfec-406e-cba9-2edf369a7211"
      },
      "outputs": [
        {
          "output_type": "stream",
          "name": "stdout",
          "text": [
            "x = 5\n"
          ]
        }
      ],
      "source": [
        "# Funções com parâmetros\n",
        "\n",
        "# x é um parâmetro\n",
        "def uma_funcao(x):\n",
        "    print(\"x = %d\" % x)\n",
        "\n",
        "# passar 5 para a função. Aqui, 5 é um argumento passado para a função\n",
        "uma_funcao(5)"
      ]
    },
    {
      "cell_type": "code",
      "execution_count": 32,
      "metadata": {
        "id": "3mKcdhL17sv_",
        "colab": {
          "base_uri": "https://localhost:8080/"
        },
        "outputId": "800b9186-1a77-45ce-cd3a-33839c7a82cc"
      },
      "outputs": [
        {
          "output_type": "stream",
          "name": "stdout",
          "text": [
            "c = 12\n"
          ]
        }
      ],
      "source": [
        "# Funções com retorno\n",
        "\n",
        "# função que retorna a soma de dois números\n",
        "def soma(a, b):\n",
        "    return a + b\n",
        "\n",
        "c = soma(7, 5)\n",
        "print(\"c = %d\" % c)"
      ]
    },
    {
      "cell_type": "code",
      "execution_count": 33,
      "metadata": {
        "id": "UEMy-AyA7s1I",
        "colab": {
          "base_uri": "https://localhost:8080/"
        },
        "outputId": "9788ae90-5524-45b4-e9b4-e8d649179eb4"
      },
      "outputs": [
        {
          "output_type": "stream",
          "name": "stdout",
          "text": [
            "420\n",
            "14\n"
          ]
        }
      ],
      "source": [
        "# Função com parâmetros default (padrão)\n",
        "\n",
        "def multiplica(a, b=2):\n",
        "    return a * b\n",
        "\n",
        "print(multiplica(5, 84))\n",
        "\n",
        "# como b tem um valor padrão, podemos passar apenas um argumento\n",
        "print(multiplica(7))"
      ]
    }
  ],
  "metadata": {
    "colab": {
      "provenance": [],
      "toc_visible": true,
      "include_colab_link": true
    },
    "kernelspec": {
      "display_name": "Python 3",
      "name": "python3"
    }
  },
  "nbformat": 4,
  "nbformat_minor": 0
}