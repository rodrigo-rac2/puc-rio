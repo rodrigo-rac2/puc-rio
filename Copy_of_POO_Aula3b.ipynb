{
  "nbformat": 4,
  "nbformat_minor": 0,
  "metadata": {
    "colab": {
      "provenance": [],
      "include_colab_link": true
    },
    "kernelspec": {
      "name": "python3",
      "display_name": "Python 3"
    },
    "language_info": {
      "name": "python"
    }
  },
  "cells": [
    {
      "cell_type": "markdown",
      "metadata": {
        "id": "view-in-github",
        "colab_type": "text"
      },
      "source": [
        "<a href=\"https://colab.research.google.com/github/rodrigo-rac2/puc-rio/blob/main/Copy_of_POO_Aula3b.ipynb\" target=\"_parent\"><img src=\"https://colab.research.google.com/assets/colab-badge.svg\" alt=\"Open In Colab\"/></a>"
      ]
    },
    {
      "cell_type": "markdown",
      "source": [
        "# Programação Orientada a Objetos - Prof. Tatiana Escovedo\n",
        "\n",
        "---\n",
        "\n",
        "## Aula 03: Boas práticas de OO e de codificação em Python\n",
        "### Prática 6: Boas práticas"
      ],
      "metadata": {
        "id": "S-amrW0zmaMa"
      }
    },
    {
      "cell_type": "markdown",
      "source": [
        "## Código inicial"
      ],
      "metadata": {
        "id": "7Ly3ea0Emkqr"
      }
    },
    {
      "cell_type": "code",
      "source": [
        "class atendimentoalunos:\n",
        "    codigo=0\n",
        "    fila=[]\n",
        "    alunosatendidos=[]\n",
        "    senhaatual=\"\"\n",
        "\n",
        "    def gerasenhaatual(self):\n",
        "        self.senhaatual=f\"A{self.codigo}\"\n",
        "    def atualizafila(self):\n",
        "        self.codigo+=1\n",
        "        self.gerasenhaatual()\n",
        "        self.fila.append(self.senhaatual)\n",
        "    def atendealuno(self, guiche):\n",
        "        alunoatual=self.fila.pop(0)\n",
        "        self.alunosatendidos.append(alunoatual)\n",
        "        return f\"{alunoatual} - Guichê {guiche}\""
      ],
      "metadata": {
        "id": "rIhgoJNnmkQ-"
      },
      "execution_count": null,
      "outputs": []
    },
    {
      "cell_type": "code",
      "source": [
        "# Código de teste\n",
        "\n",
        "secretaria = atendimentoalunos()\n",
        "secretaria.atualizafila()\n",
        "secretaria.atualizafila()\n",
        "secretaria.atualizafila()\n",
        "secretaria.atualizafila()\n",
        "\n",
        "print(\"\\t=== Pessoas atualmente na fila:\", secretaria.fila)\n",
        "\n",
        "print(secretaria.atendealuno(\"3\"))\n",
        "print(secretaria.atendealuno(\"1\"))\n",
        "\n",
        "print(\"\\t=== Pessoas atendidas:\", secretaria.alunosatendidos)\n",
        "\n",
        "print(\"\\t=== Pessoas atualmente na fila:\", secretaria.fila)"
      ],
      "metadata": {
        "colab": {
          "base_uri": "https://localhost:8080/"
        },
        "id": "OYIpe9ElzFKS",
        "outputId": "4f6819bc-95d8-4b7e-d1db-3341d99e7520"
      },
      "execution_count": null,
      "outputs": [
        {
          "output_type": "stream",
          "name": "stdout",
          "text": [
            "\t=== Pessoas atualmente na fila: ['A1', 'A2', 'A3', 'A4']\n",
            "A1 - Guichê 3\n",
            "A2 - Guichê 1\n",
            "\t=== Pessoas atendidas: ['A1', 'A2']\n",
            "\t=== Pessoas atualmente na fila: ['A3', 'A4']\n"
          ]
        }
      ]
    },
    {
      "cell_type": "markdown",
      "source": [
        "## Melhoria"
      ],
      "metadata": {
        "id": "VvmZKoPiswy3"
      }
    },
    {
      "cell_type": "code",
      "source": [
        "# Melhorando o código segundo a PEP8:\n",
        "# - Typehints nas variáveis e retornos de métodos\n",
        "# - Nomenclatura da classe, métodos e atributos\n",
        "# - Linha em branco entre métodos\n",
        "# - Espaços entre operadores\n",
        "\n",
        "class AtendimentoAlunos:\n",
        "    codigo: int = 0\n",
        "    fila = []\n",
        "    alunos_atendidos = []\n",
        "    senha_atual: str = \"\"\n",
        "\n",
        "    def gera_senha_atual(self) -> None:\n",
        "        self.senha_atual = f\"A{self.codigo}\"\n",
        "\n",
        "    def atualiza_fila(self) -> None:\n",
        "        self.codigo += 1\n",
        "        self.gera_senha_atual()\n",
        "        self.fila.append(self.senha_atual)\n",
        "\n",
        "    def atende_aluno(self, guiche: str) -> str:\n",
        "        aluno_atual = self.fila.pop(0)\n",
        "        self.alunos_atendidos.append(aluno_atual)\n",
        "        return f\"{aluno_atual} - Guichê {guiche}\""
      ],
      "metadata": {
        "id": "ClpRw2qG0MfV"
      },
      "execution_count": null,
      "outputs": []
    },
    {
      "cell_type": "code",
      "source": [
        "# Novo código de teste\n",
        "\n",
        "secretaria = AtendimentoAlunos()\n",
        "secretaria.atualiza_fila()\n",
        "secretaria.atualiza_fila()\n",
        "secretaria.atualiza_fila()\n",
        "secretaria.atualiza_fila()\n",
        "\n",
        "print(\"\\t=== Pessoas atualmente na fila:\", secretaria.fila)\n",
        "\n",
        "print(secretaria.atende_aluno(\"3\"))\n",
        "print(secretaria.atende_aluno(\"1\"))\n",
        "\n",
        "print(\"\\t=== Pessoas atendidas:\", secretaria.alunos_atendidos)\n",
        "\n",
        "print(\"\\t=== Pessoas atualmente na fila:\", secretaria.fila)"
      ],
      "metadata": {
        "colab": {
          "base_uri": "https://localhost:8080/"
        },
        "id": "VYe8Hg3s45aG",
        "outputId": "04661597-2b52-42ba-b61b-21f750db8cb6"
      },
      "execution_count": null,
      "outputs": [
        {
          "output_type": "stream",
          "name": "stdout",
          "text": [
            "\t=== Pessoas atualmente na fila: ['A1', 'A2', 'A3', 'A4']\n",
            "A1 - Guichê 3\n",
            "A2 - Guichê 1\n",
            "\t=== Pessoas atendidas: ['A1', 'A2']\n",
            "\t=== Pessoas atualmente na fila: ['A3', 'A4']\n"
          ]
        }
      ]
    },
    {
      "cell_type": "markdown",
      "source": [
        "## Modificações solicitadas pelo cliente"
      ],
      "metadata": {
        "id": "CP3yM5zp7WpZ"
      }
    },
    {
      "cell_type": "code",
      "source": [
        "class AtendimentoProfessores:\n",
        "    codigo: int = 0\n",
        "    fila = []\n",
        "    professores_atendidos = []\n",
        "    senha_atual: str = \"\"\n",
        "\n",
        "    def gera_senha_atual(self) -> None:\n",
        "        self.senha_atual = f\"P{self.codigo}\" # senha com prefixo P em vez de A\n",
        "\n",
        "    def atualiza_fila(self) -> None:\n",
        "        self.codigo += 1\n",
        "        self.gera_senha_atual()\n",
        "        self.fila.append(self.senha_atual)\n",
        "\n",
        "    def atende_professor(self, guiche: str) -> str:\n",
        "        professor_atual = self.fila.pop(0)\n",
        "        self.professores_atendidos.append(professor_atual)\n",
        "        return f\"Senhor(a) {professor_atual}, dirija-se ao guichê {guiche}\" # tratamento"
      ],
      "metadata": {
        "id": "5Ra73VF27gS2"
      },
      "execution_count": null,
      "outputs": []
    },
    {
      "cell_type": "code",
      "source": [
        "# Novo código de teste\n",
        "\n",
        "secretaria = AtendimentoProfessores()\n",
        "secretaria.atualiza_fila()\n",
        "secretaria.atualiza_fila()\n",
        "secretaria.atualiza_fila()\n",
        "secretaria.atualiza_fila()\n",
        "\n",
        "print(\"\\t=== Pessoas atualmente na fila:\", secretaria.fila)\n",
        "\n",
        "print(secretaria.atende_professor(\"3\"))\n",
        "print(secretaria.atende_professor(\"1\"))\n",
        "\n",
        "print(\"\\t=== Pessoas atendidas:\", secretaria.professores_atendidos)\n",
        "\n",
        "print(\"\\t=== Pessoas atualmente na fila:\", secretaria.fila)"
      ],
      "metadata": {
        "colab": {
          "base_uri": "https://localhost:8080/"
        },
        "id": "eibU3p9S7qUH",
        "outputId": "0e84830f-a675-40f0-8ed4-7ded38c30fcb"
      },
      "execution_count": null,
      "outputs": [
        {
          "output_type": "stream",
          "name": "stdout",
          "text": [
            "\t=== Pessoas atualmente na fila: ['P1', 'P2', 'P3', 'P4']\n",
            "Senhor(a) P1, dirija-se ao guichê 3\n",
            "Senhor(a) P2, dirija-se ao guichê 1\n",
            "\t=== Pessoas atendidas: ['P1', 'P2']\n",
            "\t=== Pessoas atualmente na fila: ['P3', 'P4']\n"
          ]
        }
      ]
    },
    {
      "cell_type": "markdown",
      "source": [
        "## Melhoria"
      ],
      "metadata": {
        "id": "ermIP9PK8O4H"
      }
    },
    {
      "cell_type": "code",
      "source": [
        "# Classe AtendimentoPessoas\n",
        "\n",
        "import abc\n",
        "\n",
        "class AtendimentoPessoas:\n",
        "    codigo: int = 0\n",
        "    fila = []\n",
        "    pessoas_atendidas = []\n",
        "    senha_atual: str = \"\"\n",
        "\n",
        "    @abc.abstractmethod\n",
        "    def gera_senha_atual(self):\n",
        "        ...\n",
        "\n",
        "    @abc.abstractmethod\n",
        "    def atende_pessoa(self, guiche: int):\n",
        "        ...\n",
        "\n",
        "    def atualiza_fila(self) -> None:\n",
        "        AtendimentoPessoas.codigo += 1 # codigo agora é estática\n",
        "        self.gera_senha_atual()\n",
        "        AtendimentoPessoas.fila.append(self.senha_atual) # fila agora é estática\n",
        "\n",
        "\n",
        "# Classe AtendimentoAlunos\n",
        "\n",
        "class AtendimentoAlunos(AtendimentoPessoas):\n",
        "\n",
        "    def gera_senha_atual(self) -> None:\n",
        "        self.senha_atual = f\"A{self.codigo}\"\n",
        "\n",
        "    def atende_pessoa(self, guiche: int) -> str:\n",
        "        aluno_atual = self.fila.pop(0)\n",
        "        AtendimentoPessoas.pessoas_atendidas.append(aluno_atual)\n",
        "        return f\"{aluno_atual} - Guichê {guiche}\"\n",
        "\n",
        "\n",
        "# Classe AtendimentoProfessores\n",
        "\n",
        "class AtendimentoProfessores(AtendimentoPessoas):\n",
        "\n",
        "    def gera_senha_atual(self) -> None:\n",
        "        self.senha_atual = f\"P{self.codigo}\"\n",
        "\n",
        "    def atende_pessoa(self, guiche: int) -> str:\n",
        "        professor_atual = self.fila.pop(0)\n",
        "        AtendimentoPessoas.pessoas_atendidas.append(professor_atual)\n",
        "        return f\"Senhor(a) {professor_atual}, dirija-se ao guichê {guiche}\" # tratamento"
      ],
      "metadata": {
        "id": "vfIyeQEn9UwY"
      },
      "execution_count": null,
      "outputs": []
    },
    {
      "cell_type": "code",
      "source": [
        "# Novo código de teste\n",
        "\n",
        "secretaria_alunos = AtendimentoAlunos()\n",
        "secretaria_professores = AtendimentoProfessores()\n",
        "\n",
        "secretaria_alunos.atualiza_fila()\n",
        "secretaria_alunos.atualiza_fila()\n",
        "secretaria_professores.atualiza_fila()\n",
        "secretaria_professores.atualiza_fila()\n",
        "secretaria_alunos.atualiza_fila()\n",
        "secretaria_alunos.atualiza_fila()\n",
        "secretaria_professores.atualiza_fila()\n",
        "secretaria_professores.atualiza_fila()\n",
        "\n",
        "print(\"\\t=== Pessoas atualmente na fila:\", AtendimentoPessoas.fila)\n",
        "\n",
        "print(secretaria_alunos.atende_pessoa(\"3\"))\n",
        "print(secretaria_alunos.atende_pessoa(\"1\"))\n",
        "print(secretaria_professores.atende_pessoa(\"2\"))\n",
        "print(secretaria_professores.atende_pessoa(\"1\"))\n",
        "\n",
        "print(\"\\t=== Pessoas atendidas:\", AtendimentoPessoas.pessoas_atendidas)\n",
        "\n",
        "print(\"\\t=== Pessoas atualmente na fila:\", AtendimentoPessoas.fila)\n"
      ],
      "metadata": {
        "colab": {
          "base_uri": "https://localhost:8080/"
        },
        "id": "qNRfWyBf_swq",
        "outputId": "422aacb9-425f-4b7d-dd26-3c69f3067ce2"
      },
      "execution_count": null,
      "outputs": [
        {
          "output_type": "stream",
          "name": "stdout",
          "text": [
            "\t=== Pessoas atualmente na fila: ['A1', 'A2', 'P3', 'P4', 'A5', 'A6', 'P7', 'P8']\n",
            "A1 - Guichê 3\n",
            "A2 - Guichê 1\n",
            "Senhor(a) P3, dirija-se ao guichê 2\n",
            "Senhor(a) P4, dirija-se ao guichê 1\n",
            "\t=== Pessoas atendidas: ['A1', 'A2', 'P3', 'P4']\n",
            "\t=== Pessoas atualmente na fila: ['A5', 'A6', 'P7', 'P8']\n"
          ]
        }
      ]
    }
  ]
}